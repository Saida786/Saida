{
 "cells": [
  {
   "cell_type": "code",
   "execution_count": 1,
   "id": "d8982087",
   "metadata": {},
   "outputs": [],
   "source": [
    "def f():\n",
    "    try:\n",
    "        f=open('abc','r')\n",
    "    except Exception as e:\n",
    "        print(e,repr(e))\n",
    "    finally:\n",
    "        print('It will be Excecuted')\n",
    "    print('Out of the block')\n",
    "    print('End of the program')"
   ]
  },
  {
   "cell_type": "code",
   "execution_count": 2,
   "id": "8b2ed5b2",
   "metadata": {},
   "outputs": [
    {
     "name": "stdout",
     "output_type": "stream",
     "text": [
      "[Errno 2] No such file or directory: 'abc' FileNotFoundError(2, 'No such file or directory')\n",
      "It will be Excecuted\n",
      "Out of the block\n",
      "End of the program\n"
     ]
    }
   ],
   "source": [
    "f()"
   ]
  },
  {
   "cell_type": "code",
   "execution_count": null,
   "id": "e3b0147e",
   "metadata": {},
   "outputs": [],
   "source": []
  }
 ],
 "metadata": {
  "kernelspec": {
   "display_name": "Python 3",
   "language": "python",
   "name": "python3"
  },
  "language_info": {
   "codemirror_mode": {
    "name": "ipython",
    "version": 3
   },
   "file_extension": ".py",
   "mimetype": "text/x-python",
   "name": "python",
   "nbconvert_exporter": "python",
   "pygments_lexer": "ipython3",
   "version": "3.8.8"
  }
 },
 "nbformat": 4,
 "nbformat_minor": 5
}
