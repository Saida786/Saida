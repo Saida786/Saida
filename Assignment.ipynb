{
 "cells": [
  {
   "cell_type": "code",
   "execution_count": 1,
   "id": "b50a5a4e",
   "metadata": {},
   "outputs": [],
   "source": [
    "import requests\n",
    "from bs4 import BeautifulSoup\n",
    "\n",
    "class Scraper:\n",
    "    def __init__(self,url,item):\n",
    "     # https://www.flipkart.com/search?q=mobiles\n",
    "        self.final_url = url + '/search?q=' + item\n",
    "        self.pull_data(self.final_url)\n",
    "\n",
    "    def pull_data(self, finalurl):\n",
    "        print(finalurl)\n",
    "        self.result = requests.get(finalurl)\n",
    "        \n",
    "       \n",
    "\n",
    "        self.soup = BeautifulSoup(self.result.content)\n",
    "        \n",
    "        \n",
    "        \n",
    "        self.tagline = self.soup.find('div',attrs={'class','_4rR01T'})\n",
    "        \n",
    "        print(self.tagline)\n",
    "        print(self.tagline.text)\n",
    "        \n",
    "        self.tagline = self.soup.find('div',attrs={'class','_30jeq3'})\n",
    "        print(self.tagline.text)\n",
    "        \n",
    "        self.tagline = self.soup.find('div',attrs={'class','_3LWZlK'})\n",
    "        print(self.tagline.text)\n",
    "        \n",
    "        "
   ]
  },
  {
   "cell_type": "code",
   "execution_count": 2,
   "id": "c2ab2128",
   "metadata": {},
   "outputs": [
    {
     "name": "stdout",
     "output_type": "stream",
     "text": [
      "https://www.flipkart.com/search?q=mobiles\n",
      "<div class=\"_4rR01T\">realme C21Y (Cross Black, 64 GB)</div>\n",
      "realme C21Y (Cross Black, 64 GB)\n",
      "₹9,999\n",
      "4.6\n"
     ]
    }
   ],
   "source": [
    "scraper = Scraper('https://www.flipkart.com','mobiles')"
   ]
  },
  {
   "cell_type": "code",
   "execution_count": null,
   "id": "bd237137",
   "metadata": {},
   "outputs": [],
   "source": []
  }
 ],
 "metadata": {
  "kernelspec": {
   "display_name": "Python 3",
   "language": "python",
   "name": "python3"
  },
  "language_info": {
   "codemirror_mode": {
    "name": "ipython",
    "version": 3
   },
   "file_extension": ".py",
   "mimetype": "text/x-python",
   "name": "python",
   "nbconvert_exporter": "python",
   "pygments_lexer": "ipython3",
   "version": "3.8.8"
  }
 },
 "nbformat": 4,
 "nbformat_minor": 5
}
