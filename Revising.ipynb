{
 "cells": [
  {
   "cell_type": "code",
   "execution_count": 1,
   "id": "9e8ca521",
   "metadata": {},
   "outputs": [],
   "source": [
    "def capital_indexes(str):\n",
    "    return [item for item,val in enumerate(str) if val.isupper()]"
   ]
  },
  {
   "cell_type": "code",
   "execution_count": 2,
   "id": "d4b8b71e",
   "metadata": {},
   "outputs": [
    {
     "data": {
      "text/plain": [
       "[0, 2, 4]"
      ]
     },
     "execution_count": 2,
     "metadata": {},
     "output_type": "execute_result"
    }
   ],
   "source": [
    "capital_indexes(\"HeLlO\")"
   ]
  },
  {
   "cell_type": "code",
   "execution_count": 3,
   "id": "80a27caf",
   "metadata": {},
   "outputs": [
    {
     "name": "stdout",
     "output_type": "stream",
     "text": [
      "\n",
      "1\t\n",
      "2\t2\t\n",
      "3\t3\t3\t\n",
      "4\t4\t4\t4\t\n",
      "5\t5\t5\t5\t5\t\n"
     ]
    }
   ],
   "source": [
    "rows=6\n",
    "for i in range(rows):\n",
    "    for j in range(i):\n",
    "        print(i,end='\\t')\n",
    "    print('')"
   ]
  },
  {
   "cell_type": "code",
   "execution_count": 4,
   "id": "de454e36",
   "metadata": {},
   "outputs": [],
   "source": [
    "def prime(n):\n",
    "    for i in range(2,n):\n",
    "        if n%i==0:\n",
    "            return False\n",
    "    return True"
   ]
  },
  {
   "cell_type": "code",
   "execution_count": 5,
   "id": "d10f295c",
   "metadata": {},
   "outputs": [
    {
     "data": {
      "text/plain": [
       "True"
      ]
     },
     "execution_count": 5,
     "metadata": {},
     "output_type": "execute_result"
    }
   ],
   "source": [
    "prime(2)"
   ]
  },
  {
   "cell_type": "code",
   "execution_count": 6,
   "id": "e9870049",
   "metadata": {},
   "outputs": [
    {
     "data": {
      "text/plain": [
       "True"
      ]
     },
     "execution_count": 6,
     "metadata": {},
     "output_type": "execute_result"
    }
   ],
   "source": [
    "prime(5)"
   ]
  },
  {
   "cell_type": "code",
   "execution_count": 7,
   "id": "3f9db875",
   "metadata": {},
   "outputs": [
    {
     "data": {
      "text/plain": [
       "False"
      ]
     },
     "execution_count": 7,
     "metadata": {},
     "output_type": "execute_result"
    }
   ],
   "source": [
    "prime(9)"
   ]
  },
  {
   "cell_type": "code",
   "execution_count": 8,
   "id": "28afa7a2",
   "metadata": {},
   "outputs": [],
   "source": [
    "def fib(n):\n",
    "    a,b=0,1\n",
    "    for i in range(n):\n",
    "        a,b=b,a+b\n",
    "    return a"
   ]
  },
  {
   "cell_type": "code",
   "execution_count": 9,
   "id": "48774271",
   "metadata": {},
   "outputs": [
    {
     "data": {
      "text/plain": [
       "21"
      ]
     },
     "execution_count": 9,
     "metadata": {},
     "output_type": "execute_result"
    }
   ],
   "source": [
    "fib(8)"
   ]
  },
  {
   "cell_type": "code",
   "execution_count": 10,
   "id": "9c1e6671",
   "metadata": {},
   "outputs": [
    {
     "data": {
      "text/plain": [
       "5"
      ]
     },
     "execution_count": 10,
     "metadata": {},
     "output_type": "execute_result"
    }
   ],
   "source": [
    "fib(5)"
   ]
  },
  {
   "cell_type": "code",
   "execution_count": 11,
   "id": "aca3cb4b",
   "metadata": {},
   "outputs": [
    {
     "data": {
      "text/plain": [
       "2"
      ]
     },
     "execution_count": 11,
     "metadata": {},
     "output_type": "execute_result"
    }
   ],
   "source": [
    "fib(3)"
   ]
  },
  {
   "cell_type": "code",
   "execution_count": 12,
   "id": "f7561d45",
   "metadata": {},
   "outputs": [],
   "source": [
    "def func(lower,upper):\n",
    "    for n in range(lower,upper+1):\n",
    "        if n>1:\n",
    "            for i in range(2,n):\n",
    "                if(n%i)==0:\n",
    "                    break\n",
    "            else:\n",
    "                print(n)"
   ]
  },
  {
   "cell_type": "code",
   "execution_count": 13,
   "id": "70bd5e17",
   "metadata": {},
   "outputs": [
    {
     "name": "stdout",
     "output_type": "stream",
     "text": [
      "2\n",
      "3\n",
      "5\n",
      "7\n"
     ]
    }
   ],
   "source": [
    "func(2,10)"
   ]
  },
  {
   "cell_type": "code",
   "execution_count": 14,
   "id": "93204aaf",
   "metadata": {},
   "outputs": [],
   "source": [
    "# multiple palindromes\n",
    "def my_func(msg):\n",
    "    res=msg.split()\n",
    "    l=[]\n",
    "    for i in range(0,len(res)):\n",
    "        if res[i]==res[i][::-1]:\n",
    "            l.append(res[i])\n",
    "    print(l)"
   ]
  },
  {
   "cell_type": "code",
   "execution_count": 16,
   "id": "81f161c3",
   "metadata": {},
   "outputs": [
    {
     "name": "stdout",
     "output_type": "stream",
     "text": [
      "['nursesrun', 'mom', 'dad', 'pap', '121']\n"
     ]
    }
   ],
   "source": [
    "my_func(\"nursesrun for their mom and dad because they love them pap 121\")"
   ]
  },
  {
   "cell_type": "code",
   "execution_count": 17,
   "id": "1d545c67",
   "metadata": {},
   "outputs": [],
   "source": [
    "class Square:\n",
    "    def __init__(self,length):\n",
    "        self.i=0\n",
    "        self.length=length\n",
    "    def __next__(self):\n",
    "        if self.i>=self.length:\n",
    "            raise StopIteration\n",
    "        else:\n",
    "            result=self.i**2\n",
    "            self.i+=1\n",
    "            return result\n",
    "    def __iter__(self):\n",
    "        return self\n",
    "        "
   ]
  },
  {
   "cell_type": "code",
   "execution_count": 19,
   "id": "0f62b88c",
   "metadata": {},
   "outputs": [],
   "source": [
    "s=Square(3)"
   ]
  },
  {
   "cell_type": "code",
   "execution_count": 20,
   "id": "0b44a60b",
   "metadata": {},
   "outputs": [
    {
     "data": {
      "text/plain": [
       "0"
      ]
     },
     "execution_count": 20,
     "metadata": {},
     "output_type": "execute_result"
    }
   ],
   "source": [
    "next(s)"
   ]
  },
  {
   "cell_type": "code",
   "execution_count": 21,
   "id": "a8a7c950",
   "metadata": {},
   "outputs": [
    {
     "data": {
      "text/plain": [
       "1"
      ]
     },
     "execution_count": 21,
     "metadata": {},
     "output_type": "execute_result"
    }
   ],
   "source": [
    "next(s)"
   ]
  },
  {
   "cell_type": "code",
   "execution_count": 22,
   "id": "d555fa7e",
   "metadata": {},
   "outputs": [
    {
     "data": {
      "text/plain": [
       "4"
      ]
     },
     "execution_count": 22,
     "metadata": {},
     "output_type": "execute_result"
    }
   ],
   "source": [
    "next(s)"
   ]
  },
  {
   "cell_type": "code",
   "execution_count": 23,
   "id": "1ff1c84e",
   "metadata": {},
   "outputs": [
    {
     "ename": "StopIteration",
     "evalue": "",
     "output_type": "error",
     "traceback": [
      "\u001b[1;31m---------------------------------------------------------------------------\u001b[0m",
      "\u001b[1;31mStopIteration\u001b[0m                             Traceback (most recent call last)",
      "\u001b[1;32m<ipython-input-23-61c30b5fe1d5>\u001b[0m in \u001b[0;36m<module>\u001b[1;34m\u001b[0m\n\u001b[1;32m----> 1\u001b[1;33m \u001b[0mnext\u001b[0m\u001b[1;33m(\u001b[0m\u001b[0ms\u001b[0m\u001b[1;33m)\u001b[0m\u001b[1;33m\u001b[0m\u001b[1;33m\u001b[0m\u001b[0m\n\u001b[0m",
      "\u001b[1;32m<ipython-input-17-68b0c80c2b42>\u001b[0m in \u001b[0;36m__next__\u001b[1;34m(self)\u001b[0m\n\u001b[0;32m      5\u001b[0m     \u001b[1;32mdef\u001b[0m \u001b[0m__next__\u001b[0m\u001b[1;33m(\u001b[0m\u001b[0mself\u001b[0m\u001b[1;33m)\u001b[0m\u001b[1;33m:\u001b[0m\u001b[1;33m\u001b[0m\u001b[1;33m\u001b[0m\u001b[0m\n\u001b[0;32m      6\u001b[0m         \u001b[1;32mif\u001b[0m \u001b[0mself\u001b[0m\u001b[1;33m.\u001b[0m\u001b[0mi\u001b[0m\u001b[1;33m>=\u001b[0m\u001b[0mself\u001b[0m\u001b[1;33m.\u001b[0m\u001b[0mlength\u001b[0m\u001b[1;33m:\u001b[0m\u001b[1;33m\u001b[0m\u001b[1;33m\u001b[0m\u001b[0m\n\u001b[1;32m----> 7\u001b[1;33m             \u001b[1;32mraise\u001b[0m \u001b[0mStopIteration\u001b[0m\u001b[1;33m\u001b[0m\u001b[1;33m\u001b[0m\u001b[0m\n\u001b[0m\u001b[0;32m      8\u001b[0m         \u001b[1;32melse\u001b[0m\u001b[1;33m:\u001b[0m\u001b[1;33m\u001b[0m\u001b[1;33m\u001b[0m\u001b[0m\n\u001b[0;32m      9\u001b[0m             \u001b[0mresult\u001b[0m\u001b[1;33m=\u001b[0m\u001b[0mself\u001b[0m\u001b[1;33m.\u001b[0m\u001b[0mi\u001b[0m\u001b[1;33m**\u001b[0m\u001b[1;36m2\u001b[0m\u001b[1;33m\u001b[0m\u001b[1;33m\u001b[0m\u001b[0m\n",
      "\u001b[1;31mStopIteration\u001b[0m: "
     ]
    }
   ],
   "source": [
    "next(s)"
   ]
  },
  {
   "cell_type": "code",
   "execution_count": 24,
   "id": "c8cbb982",
   "metadata": {},
   "outputs": [],
   "source": [
    "def generate():\n",
    "    yield 1\n",
    "    yield 2\n",
    "    yield 3"
   ]
  },
  {
   "cell_type": "code",
   "execution_count": 25,
   "id": "be06b097",
   "metadata": {},
   "outputs": [],
   "source": [
    "g=generate()"
   ]
  },
  {
   "cell_type": "code",
   "execution_count": 26,
   "id": "9436df58",
   "metadata": {},
   "outputs": [
    {
     "data": {
      "text/plain": [
       "1"
      ]
     },
     "execution_count": 26,
     "metadata": {},
     "output_type": "execute_result"
    }
   ],
   "source": [
    "next(g)"
   ]
  },
  {
   "cell_type": "code",
   "execution_count": 27,
   "id": "058d4120",
   "metadata": {},
   "outputs": [
    {
     "data": {
      "text/plain": [
       "2"
      ]
     },
     "execution_count": 27,
     "metadata": {},
     "output_type": "execute_result"
    }
   ],
   "source": [
    "next(g)"
   ]
  },
  {
   "cell_type": "code",
   "execution_count": 28,
   "id": "3d0500fb",
   "metadata": {},
   "outputs": [
    {
     "data": {
      "text/plain": [
       "3"
      ]
     },
     "execution_count": 28,
     "metadata": {},
     "output_type": "execute_result"
    }
   ],
   "source": [
    "next(g)"
   ]
  },
  {
   "cell_type": "code",
   "execution_count": 29,
   "id": "3f3771f6",
   "metadata": {},
   "outputs": [
    {
     "ename": "StopIteration",
     "evalue": "",
     "output_type": "error",
     "traceback": [
      "\u001b[1;31m---------------------------------------------------------------------------\u001b[0m",
      "\u001b[1;31mStopIteration\u001b[0m                             Traceback (most recent call last)",
      "\u001b[1;32m<ipython-input-29-e734f8aca5ac>\u001b[0m in \u001b[0;36m<module>\u001b[1;34m\u001b[0m\n\u001b[1;32m----> 1\u001b[1;33m \u001b[0mnext\u001b[0m\u001b[1;33m(\u001b[0m\u001b[0mg\u001b[0m\u001b[1;33m)\u001b[0m\u001b[1;33m\u001b[0m\u001b[1;33m\u001b[0m\u001b[0m\n\u001b[0m",
      "\u001b[1;31mStopIteration\u001b[0m: "
     ]
    }
   ],
   "source": [
    "next(g)"
   ]
  },
  {
   "cell_type": "code",
   "execution_count": 30,
   "id": "a96ef387",
   "metadata": {},
   "outputs": [],
   "source": [
    "def outer(fn):\n",
    "    def inner(*args,**kwargs):\n",
    "        f,s=args\n",
    "        return fn(f.upper(),s.upper())\n",
    "    return inner"
   ]
  },
  {
   "cell_type": "code",
   "execution_count": 31,
   "id": "9829ec70",
   "metadata": {},
   "outputs": [],
   "source": [
    "def func(f,s):\n",
    "    if type(f)==str and type(s)==str:\n",
    "        return f,s"
   ]
  },
  {
   "cell_type": "code",
   "execution_count": 32,
   "id": "1941db01",
   "metadata": {},
   "outputs": [],
   "source": [
    "func=outer(func)"
   ]
  },
  {
   "cell_type": "code",
   "execution_count": 33,
   "id": "52a21035",
   "metadata": {},
   "outputs": [
    {
     "data": {
      "text/plain": [
       "('SAIDA', 'SHAIK')"
      ]
     },
     "execution_count": 33,
     "metadata": {},
     "output_type": "execute_result"
    }
   ],
   "source": [
    "func(\"saida\",\"shaik\")"
   ]
  },
  {
   "cell_type": "code",
   "execution_count": 34,
   "id": "88af77f4",
   "metadata": {},
   "outputs": [
    {
     "name": "stdout",
     "output_type": "stream",
     "text": [
      "9\n"
     ]
    }
   ],
   "source": [
    "#get maximum number without using sort\n",
    "l=[]\n",
    "a=9876\n",
    "for i in str(a):\n",
    "    l.append(int(i))\n",
    "print(max(l))"
   ]
  },
  {
   "cell_type": "code",
   "execution_count": 35,
   "id": "96b8f41a",
   "metadata": {},
   "outputs": [
    {
     "name": "stdout",
     "output_type": "stream",
     "text": [
      "8\n"
     ]
    }
   ],
   "source": [
    "#get second maximum number without using sort\n",
    "\n",
    "l=[]\n",
    "a=9876\n",
    "for i in str(a):\n",
    "    l.append(int(i))\n",
    "x=max(l)\n",
    "l.remove(x)\n",
    "print(max(l)) "
   ]
  },
  {
   "cell_type": "code",
   "execution_count": 37,
   "id": "1f9f9317",
   "metadata": {},
   "outputs": [
    {
     "data": {
      "text/plain": [
       "9"
      ]
     },
     "execution_count": 37,
     "metadata": {},
     "output_type": "execute_result"
    }
   ],
   "source": [
    "#get maximum number using sort\n",
    "l=[]\n",
    "a=9876\n",
    "for i in str(a):\n",
    "    l.append(int(i))\n",
    "    l.sort()\n",
    "l[-1]"
   ]
  },
  {
   "cell_type": "code",
   "execution_count": 36,
   "id": "424dd100",
   "metadata": {},
   "outputs": [
    {
     "data": {
      "text/plain": [
       "8"
      ]
     },
     "execution_count": 36,
     "metadata": {},
     "output_type": "execute_result"
    }
   ],
   "source": [
    "#get second maximum number using sort\n",
    "l=[]\n",
    "a=9876\n",
    "for i in str(a):\n",
    "    l.append(int(i))\n",
    "    l.sort()\n",
    "l[-2]"
   ]
  },
  {
   "cell_type": "code",
   "execution_count": 42,
   "id": "9e2518e0",
   "metadata": {},
   "outputs": [],
   "source": [
    "def flattens(seq):\n",
    "    l=[]\n",
    "    for i in seq:\n",
    "        l.extend(i)\n",
    "    return l"
   ]
  },
  {
   "cell_type": "code",
   "execution_count": 43,
   "id": "f64e0752",
   "metadata": {},
   "outputs": [
    {
     "data": {
      "text/plain": [
       "[1, 2, 3, 4]"
      ]
     },
     "execution_count": 43,
     "metadata": {},
     "output_type": "execute_result"
    }
   ],
   "source": [
    "flattens([[1,2],[3,4]])"
   ]
  },
  {
   "cell_type": "code",
   "execution_count": 44,
   "id": "8058ecab",
   "metadata": {},
   "outputs": [],
   "source": [
    "def add(l1,l2):\n",
    "    l=[]\n",
    "    pos=0\n",
    "    while pos<len(l1) and pos<len(l2):\n",
    "        l.append(l1[pos]+l2[pos])\n",
    "        pos+=1\n",
    "    return l"
   ]
  },
  {
   "cell_type": "code",
   "execution_count": 45,
   "id": "d54f73ad",
   "metadata": {},
   "outputs": [
    {
     "data": {
      "text/plain": [
       "[4, 6]"
      ]
     },
     "execution_count": 45,
     "metadata": {},
     "output_type": "execute_result"
    }
   ],
   "source": [
    "add([1,2],[3,4])"
   ]
  },
  {
   "cell_type": "code",
   "execution_count": 46,
   "id": "aa55f0b9",
   "metadata": {},
   "outputs": [],
   "source": [
    "#number palindromes\n",
    "def num_pal(seq):\n",
    "    l=[]\n",
    "    for i in seq:\n",
    "        a=str(i)\n",
    "        if a==a[::-1]:\n",
    "            l.append(int(a))\n",
    "    print(l)"
   ]
  },
  {
   "cell_type": "code",
   "execution_count": 48,
   "id": "08d6be61",
   "metadata": {},
   "outputs": [
    {
     "name": "stdout",
     "output_type": "stream",
     "text": [
      "[121, 54345, 1, 2, 434]\n"
     ]
    }
   ],
   "source": [
    "num_pal([121,54345,1,2,423,434,657,1010])"
   ]
  },
  {
   "cell_type": "code",
   "execution_count": 49,
   "id": "df1dc77c",
   "metadata": {},
   "outputs": [],
   "source": [
    "def fib(count):\n",
    "    m=0\n",
    "    n=1\n",
    "    print(m)\n",
    "    print(n)\n",
    "    for i in range(2,count):\n",
    "        result=m+n\n",
    "        m=n\n",
    "        n=result\n",
    "        print(result)"
   ]
  },
  {
   "cell_type": "code",
   "execution_count": 50,
   "id": "fb303cac",
   "metadata": {},
   "outputs": [
    {
     "name": "stdout",
     "output_type": "stream",
     "text": [
      "0\n",
      "1\n",
      "1\n",
      "2\n",
      "3\n",
      "5\n",
      "8\n",
      "13\n",
      "21\n",
      "34\n"
     ]
    }
   ],
   "source": [
    "fib(10)"
   ]
  },
  {
   "cell_type": "code",
   "execution_count": 51,
   "id": "b5e85b63",
   "metadata": {},
   "outputs": [],
   "source": [
    "#anagram\n",
    "def anagram(a,b):\n",
    "    if sorted(a)==sorted(b):\n",
    "        return 'Anagram'\n",
    "    else:\n",
    "        return 'Not a Anagram'"
   ]
  },
  {
   "cell_type": "code",
   "execution_count": 52,
   "id": "5a3e0612",
   "metadata": {},
   "outputs": [
    {
     "data": {
      "text/plain": [
       "'Anagram'"
      ]
     },
     "execution_count": 52,
     "metadata": {},
     "output_type": "execute_result"
    }
   ],
   "source": [
    "anagram('listen','silent')"
   ]
  },
  {
   "cell_type": "code",
   "execution_count": 53,
   "id": "77a1e339",
   "metadata": {},
   "outputs": [
    {
     "data": {
      "text/plain": [
       "'Not a Anagram'"
      ]
     },
     "execution_count": 53,
     "metadata": {},
     "output_type": "execute_result"
    }
   ],
   "source": [
    "anagram('name','abac')"
   ]
  },
  {
   "cell_type": "code",
   "execution_count": 54,
   "id": "7571d889",
   "metadata": {},
   "outputs": [],
   "source": [
    "def counter(s):\n",
    "    upper=0\n",
    "    lower=0\n",
    "    for i in s:\n",
    "        if i.isupper():\n",
    "            upper+=1\n",
    "        else:\n",
    "            lower+=1\n",
    "    print(\"lower case letters = {}\".format(lower))\n",
    "    print(\"upper case letters = {}\".format(upper))"
   ]
  },
  {
   "cell_type": "code",
   "execution_count": 55,
   "id": "f954b133",
   "metadata": {},
   "outputs": [
    {
     "name": "stdout",
     "output_type": "stream",
     "text": [
      "lower case letters = 3\n",
      "upper case letters = 2\n"
     ]
    }
   ],
   "source": [
    "counter(\"SyeDa\")"
   ]
  },
  {
   "cell_type": "code",
   "execution_count": 62,
   "id": "d1d4068a",
   "metadata": {},
   "outputs": [],
   "source": [
    "def outer():\n",
    "    age=23\n",
    "    name='Akash'\n",
    "    def inner():\n",
    "        print(\"My self {} and age is {}\".format(name,age))\n",
    "    return inner\n"
   ]
  },
  {
   "cell_type": "code",
   "execution_count": 63,
   "id": "8ad0fccf",
   "metadata": {},
   "outputs": [],
   "source": [
    "func=outer()"
   ]
  },
  {
   "cell_type": "code",
   "execution_count": 64,
   "id": "256507db",
   "metadata": {},
   "outputs": [
    {
     "data": {
      "text/plain": [
       "(<cell at 0x0000022B64BDF940: int object at 0x00007FFA4D6C29F0>,\n",
       " <cell at 0x0000022B64BDFD90: str object at 0x0000022B64CDF630>)"
      ]
     },
     "execution_count": 64,
     "metadata": {},
     "output_type": "execute_result"
    }
   ],
   "source": [
    "func.__closure__"
   ]
  },
  {
   "cell_type": "code",
   "execution_count": 65,
   "id": "3f35df83",
   "metadata": {},
   "outputs": [
    {
     "data": {
      "text/plain": [
       "('age', 'name')"
      ]
     },
     "execution_count": 65,
     "metadata": {},
     "output_type": "execute_result"
    }
   ],
   "source": [
    "func.__code__.co_freevars"
   ]
  },
  {
   "cell_type": "code",
   "execution_count": null,
   "id": "b82331ae",
   "metadata": {},
   "outputs": [],
   "source": []
  }
 ],
 "metadata": {
  "kernelspec": {
   "display_name": "Python 3",
   "language": "python",
   "name": "python3"
  },
  "language_info": {
   "codemirror_mode": {
    "name": "ipython",
    "version": 3
   },
   "file_extension": ".py",
   "mimetype": "text/x-python",
   "name": "python",
   "nbconvert_exporter": "python",
   "pygments_lexer": "ipython3",
   "version": "3.8.8"
  }
 },
 "nbformat": 4,
 "nbformat_minor": 5
}
